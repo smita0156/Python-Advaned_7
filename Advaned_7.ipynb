{
 "cells": [
  {
   "cell_type": "code",
   "execution_count": null,
   "id": "08d07ec2-f81d-4ae0-8597-a42d9b422bea",
   "metadata": {},
   "outputs": [],
   "source": [
    "Q1. What is the purpose of the try statement?"
   ]
  },
  {
   "cell_type": "code",
   "execution_count": null,
   "id": "4af98152-20f0-4b61-b223-9b2dc440ce85",
   "metadata": {},
   "outputs": [],
   "source": [
    "Allows you to define a block of code to be tested for exceptions (errors) while it is being executed."
   ]
  },
  {
   "cell_type": "code",
   "execution_count": null,
   "id": "4e3ce73c-8bcb-4be1-a1cf-980c8e331784",
   "metadata": {},
   "outputs": [],
   "source": [
    "Q2. What are the two most popular try statement variations?"
   ]
  },
  {
   "cell_type": "code",
   "execution_count": null,
   "id": "cddd827c-08c3-4723-acdc-2c13b8847aae",
   "metadata": {},
   "outputs": [],
   "source": [
    "Else and finally"
   ]
  },
  {
   "cell_type": "code",
   "execution_count": null,
   "id": "ff5d44ef-40db-4a9b-ae51-1df0489ba79c",
   "metadata": {},
   "outputs": [],
   "source": [
    "Both of these optional blocks will come after the try and the except."
   ]
  },
  {
   "cell_type": "code",
   "execution_count": null,
   "id": "fa5e7b89-533d-4e98-adb2-e88dd2037c56",
   "metadata": {},
   "outputs": [],
   "source": [
    "Q3. What is the purpose of the raise statement?"
   ]
  },
  {
   "cell_type": "code",
   "execution_count": null,
   "id": "8ebe9e1d-bf17-4af9-9ed0-ea1b3b7cd8fd",
   "metadata": {},
   "outputs": [],
   "source": [
    "Stops normal execution of a PL/SQL block or subprogram and transfers control to an exception handler."
   ]
  },
  {
   "cell_type": "code",
   "execution_count": null,
   "id": "2afafcb0-447e-43ff-a8ca-5803f1920108",
   "metadata": {},
   "outputs": [],
   "source": [
    "Q4. What does the assert statement do, and what other statement is it like?"
   ]
  },
  {
   "cell_type": "code",
   "execution_count": null,
   "id": "25f32055-cda3-4d78-b6e8-ac8f1b5c9124",
   "metadata": {},
   "outputs": [],
   "source": [
    "Used to check types, values of argument and the output of the function."
   ]
  },
  {
   "cell_type": "code",
   "execution_count": null,
   "id": "0af5a9d9-3b33-4eda-bba6-1278009292e8",
   "metadata": {},
   "outputs": [],
   "source": [
    "Q5. What is the purpose of the with/as argument, and what other statement is it like?"
   ]
  },
  {
   "cell_type": "code",
   "execution_count": null,
   "id": "8876227d-f5a6-4db5-b797-8ff8fa5ea807",
   "metadata": {},
   "outputs": [],
   "source": [
    "It ensures closing resources right after processing them. "
   ]
  },
  {
   "cell_type": "code",
   "execution_count": null,
   "id": "7bf4b0ce-52ef-422c-bb61-13ff344c465e",
   "metadata": {},
   "outputs": [],
   "source": []
  }
 ],
 "metadata": {
  "kernelspec": {
   "display_name": "Python 3 (ipykernel)",
   "language": "python",
   "name": "python3"
  },
  "language_info": {
   "codemirror_mode": {
    "name": "ipython",
    "version": 3
   },
   "file_extension": ".py",
   "mimetype": "text/x-python",
   "name": "python",
   "nbconvert_exporter": "python",
   "pygments_lexer": "ipython3",
   "version": "3.10.6"
  }
 },
 "nbformat": 4,
 "nbformat_minor": 5
}
